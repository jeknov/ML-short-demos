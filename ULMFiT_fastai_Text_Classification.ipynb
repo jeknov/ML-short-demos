{
  "nbformat": 4,
  "nbformat_minor": 0,
  "metadata": {
    "colab": {
      "name": "Copy of ULMFiT_fastai_Text_Classification",
      "version": "0.3.2",
      "provenance": [],
      "collapsed_sections": [],
      "include_colab_link": true
    },
    "kernelspec": {
      "name": "python3",
      "display_name": "Python 3"
    },
    "accelerator": "GPU"
  },
  "cells": [
    {
      "cell_type": "markdown",
      "metadata": {
        "id": "view-in-github",
        "colab_type": "text"
      },
      "source": [
        "<a href=\"https://colab.research.google.com/github/jeknov/ML-short-demos/blob/master/ULMFiT_fastai_Text_Classification.ipynb\" target=\"_parent\"><img src=\"https://colab.research.google.com/assets/colab-badge.svg\" alt=\"Open In Colab\"/></a>"
      ]
    },
    {
      "cell_type": "markdown",
      "metadata": {
        "id": "rsMgf8LLsoOq",
        "colab_type": "text"
      },
      "source": [
        "Let's install PyTorch and fastai libraries first. You have to repeat this step every time you restart this notebook in colab."
      ]
    },
    {
      "cell_type": "code",
      "metadata": {
        "id": "9L-mYNWDBB4g",
        "colab_type": "code",
        "outputId": "ed0297d4-ce6d-4881-da27-08fdaee5c712",
        "colab": {
          "base_uri": "https://localhost:8080/",
          "height": 904
        }
      },
      "source": [
        "!pip install torch_nightly -f https://download.pytorch.org/whl/nightly/cu92/torch_nightly.html\n",
        "!pip install fastai"
      ],
      "execution_count": 0,
      "outputs": [
        {
          "output_type": "stream",
          "text": [
            "Looking in links: https://download.pytorch.org/whl/nightly/cu92/torch_nightly.html\n",
            "Collecting torch_nightly\n",
            "\u001b[?25l  Downloading https://download.pytorch.org/whl/nightly/cu92/torch_nightly-1.0.0.dev20181206-cp36-cp36m-linux_x86_64.whl (576.2MB)\n",
            "\u001b[K     |████████████████████████████████| 576.2MB 24kB/s \n",
            "\u001b[?25hInstalling collected packages: torch-nightly\n",
            "Successfully installed torch-nightly-1.0.0.dev20181206\n",
            "Requirement already satisfied: fastai in /usr/local/lib/python3.6/dist-packages (1.0.52)\n",
            "Requirement already satisfied: bottleneck in /usr/local/lib/python3.6/dist-packages (from fastai) (1.2.1)\n",
            "Requirement already satisfied: requests in /usr/local/lib/python3.6/dist-packages (from fastai) (2.21.0)\n",
            "Requirement already satisfied: beautifulsoup4 in /usr/local/lib/python3.6/dist-packages (from fastai) (4.6.3)\n",
            "Requirement already satisfied: torch>=1.0.0 in /usr/local/lib/python3.6/dist-packages (from fastai) (1.1.0)\n",
            "Requirement already satisfied: fastprogress>=0.1.19 in /usr/local/lib/python3.6/dist-packages (from fastai) (0.1.21)\n",
            "Requirement already satisfied: pyyaml in /usr/local/lib/python3.6/dist-packages (from fastai) (3.13)\n",
            "Requirement already satisfied: matplotlib in /usr/local/lib/python3.6/dist-packages (from fastai) (3.0.3)\n",
            "Requirement already satisfied: Pillow in /usr/local/lib/python3.6/dist-packages (from fastai) (4.3.0)\n",
            "Requirement already satisfied: spacy>=2.0.18 in /usr/local/lib/python3.6/dist-packages (from fastai) (2.0.18)\n",
            "Requirement already satisfied: pandas in /usr/local/lib/python3.6/dist-packages (from fastai) (0.24.2)\n",
            "Requirement already satisfied: numpy>=1.15 in /usr/local/lib/python3.6/dist-packages (from fastai) (1.16.3)\n",
            "Requirement already satisfied: torchvision in /usr/local/lib/python3.6/dist-packages (from fastai) (0.2.2.post3)\n",
            "Requirement already satisfied: scipy in /usr/local/lib/python3.6/dist-packages (from fastai) (1.2.1)\n",
            "Requirement already satisfied: numexpr in /usr/local/lib/python3.6/dist-packages (from fastai) (2.6.9)\n",
            "Requirement already satisfied: typing in /usr/local/lib/python3.6/dist-packages (from fastai) (3.6.6)\n",
            "Requirement already satisfied: dataclasses; python_version < \"3.7\" in /usr/local/lib/python3.6/dist-packages (from fastai) (0.6)\n",
            "Requirement already satisfied: nvidia-ml-py3 in /usr/local/lib/python3.6/dist-packages (from fastai) (7.352.0)\n",
            "Requirement already satisfied: packaging in /usr/local/lib/python3.6/dist-packages (from fastai) (19.0)\n",
            "Requirement already satisfied: certifi>=2017.4.17 in /usr/local/lib/python3.6/dist-packages (from requests->fastai) (2019.3.9)\n",
            "Requirement already satisfied: urllib3<1.25,>=1.21.1 in /usr/local/lib/python3.6/dist-packages (from requests->fastai) (1.24.2)\n",
            "Requirement already satisfied: idna<2.9,>=2.5 in /usr/local/lib/python3.6/dist-packages (from requests->fastai) (2.8)\n",
            "Requirement already satisfied: chardet<3.1.0,>=3.0.2 in /usr/local/lib/python3.6/dist-packages (from requests->fastai) (3.0.4)\n",
            "Requirement already satisfied: cycler>=0.10 in /usr/local/lib/python3.6/dist-packages (from matplotlib->fastai) (0.10.0)\n",
            "Requirement already satisfied: pyparsing!=2.0.4,!=2.1.2,!=2.1.6,>=2.0.1 in /usr/local/lib/python3.6/dist-packages (from matplotlib->fastai) (2.4.0)\n",
            "Requirement already satisfied: kiwisolver>=1.0.1 in /usr/local/lib/python3.6/dist-packages (from matplotlib->fastai) (1.1.0)\n",
            "Requirement already satisfied: python-dateutil>=2.1 in /usr/local/lib/python3.6/dist-packages (from matplotlib->fastai) (2.5.3)\n",
            "Requirement already satisfied: olefile in /usr/local/lib/python3.6/dist-packages (from Pillow->fastai) (0.46)\n",
            "Requirement already satisfied: cymem<2.1.0,>=2.0.2 in /usr/local/lib/python3.6/dist-packages (from spacy>=2.0.18->fastai) (2.0.2)\n",
            "Requirement already satisfied: thinc<6.13.0,>=6.12.1 in /usr/local/lib/python3.6/dist-packages (from spacy>=2.0.18->fastai) (6.12.1)\n",
            "Requirement already satisfied: murmurhash<1.1.0,>=0.28.0 in /usr/local/lib/python3.6/dist-packages (from spacy>=2.0.18->fastai) (1.0.2)\n",
            "Requirement already satisfied: plac<1.0.0,>=0.9.6 in /usr/local/lib/python3.6/dist-packages (from spacy>=2.0.18->fastai) (0.9.6)\n",
            "Requirement already satisfied: dill<0.3,>=0.2 in /usr/local/lib/python3.6/dist-packages (from spacy>=2.0.18->fastai) (0.2.9)\n",
            "Requirement already satisfied: preshed<2.1.0,>=2.0.1 in /usr/local/lib/python3.6/dist-packages (from spacy>=2.0.18->fastai) (2.0.1)\n",
            "Requirement already satisfied: ujson>=1.35 in /usr/local/lib/python3.6/dist-packages (from spacy>=2.0.18->fastai) (1.35)\n",
            "Requirement already satisfied: regex==2018.01.10 in /usr/local/lib/python3.6/dist-packages (from spacy>=2.0.18->fastai) (2018.1.10)\n",
            "Requirement already satisfied: pytz>=2011k in /usr/local/lib/python3.6/dist-packages (from pandas->fastai) (2018.9)\n",
            "Requirement already satisfied: six in /usr/local/lib/python3.6/dist-packages (from torchvision->fastai) (1.12.0)\n",
            "Requirement already satisfied: setuptools in /usr/local/lib/python3.6/dist-packages (from kiwisolver>=1.0.1->matplotlib->fastai) (41.0.1)\n",
            "Requirement already satisfied: wrapt<1.11.0,>=1.10.0 in /usr/local/lib/python3.6/dist-packages (from thinc<6.13.0,>=6.12.1->spacy>=2.0.18->fastai) (1.10.11)\n",
            "Requirement already satisfied: msgpack-numpy<0.4.4 in /usr/local/lib/python3.6/dist-packages (from thinc<6.13.0,>=6.12.1->spacy>=2.0.18->fastai) (0.4.3.2)\n",
            "Requirement already satisfied: tqdm<5.0.0,>=4.10.0 in /usr/local/lib/python3.6/dist-packages (from thinc<6.13.0,>=6.12.1->spacy>=2.0.18->fastai) (4.28.1)\n",
            "Requirement already satisfied: cytoolz<0.10,>=0.9.0 in /usr/local/lib/python3.6/dist-packages (from thinc<6.13.0,>=6.12.1->spacy>=2.0.18->fastai) (0.9.0.1)\n",
            "Requirement already satisfied: msgpack<0.6.0,>=0.5.6 in /usr/local/lib/python3.6/dist-packages (from thinc<6.13.0,>=6.12.1->spacy>=2.0.18->fastai) (0.5.6)\n",
            "Requirement already satisfied: toolz>=0.8.0 in /usr/local/lib/python3.6/dist-packages (from cytoolz<0.10,>=0.9.0->thinc<6.13.0,>=6.12.1->spacy>=2.0.18->fastai) (0.9.0)\n"
          ],
          "name": "stdout"
        }
      ]
    },
    {
      "cell_type": "code",
      "metadata": {
        "id": "SA87AbrrBigr",
        "colab_type": "code",
        "colab": {}
      },
      "source": [
        "# import libraries\n",
        "import fastai\n",
        "from fastai import *\n",
        "from fastai.text import * \n",
        "import pandas as pd\n",
        "import numpy as np\n",
        "from functools import partial\n",
        "import io\n",
        "import os"
      ],
      "execution_count": 0,
      "outputs": []
    },
    {
      "cell_type": "code",
      "metadata": {
        "id": "r9SHCfiABlcF",
        "colab_type": "code",
        "outputId": "cbbb7844-80e0-4c64-baba-010a17a23f50",
        "colab": {
          "base_uri": "https://localhost:8080/",
          "height": 51
        }
      },
      "source": [
        "#import dataset\n",
        "from sklearn.datasets import fetch_20newsgroups\n",
        "dataset = fetch_20newsgroups(shuffle=True, random_state=1, remove=('headers', 'footers', 'quotes'))\n",
        "documents = dataset.data"
      ],
      "execution_count": 0,
      "outputs": [
        {
          "output_type": "stream",
          "text": [
            "Downloading 20news dataset. This may take a few minutes.\n",
            "Downloading dataset from https://ndownloader.figshare.com/files/5975967 (14 MB)\n"
          ],
          "name": "stderr"
        }
      ]
    },
    {
      "cell_type": "code",
      "metadata": {
        "id": "Xvs8MygLEKri",
        "colab_type": "code",
        "outputId": "1f345c40-76a8-45a5-fa1f-bd844025fbcd",
        "colab": {
          "base_uri": "https://localhost:8080/",
          "height": 357
        }
      },
      "source": [
        "dataset.target_names"
      ],
      "execution_count": 0,
      "outputs": [
        {
          "output_type": "execute_result",
          "data": {
            "text/plain": [
              "['alt.atheism',\n",
              " 'comp.graphics',\n",
              " 'comp.os.ms-windows.misc',\n",
              " 'comp.sys.ibm.pc.hardware',\n",
              " 'comp.sys.mac.hardware',\n",
              " 'comp.windows.x',\n",
              " 'misc.forsale',\n",
              " 'rec.autos',\n",
              " 'rec.motorcycles',\n",
              " 'rec.sport.baseball',\n",
              " 'rec.sport.hockey',\n",
              " 'sci.crypt',\n",
              " 'sci.electronics',\n",
              " 'sci.med',\n",
              " 'sci.space',\n",
              " 'soc.religion.christian',\n",
              " 'talk.politics.guns',\n",
              " 'talk.politics.mideast',\n",
              " 'talk.politics.misc',\n",
              " 'talk.religion.misc']"
            ]
          },
          "metadata": {
            "tags": []
          },
          "execution_count": 4
        }
      ]
    },
    {
      "cell_type": "code",
      "metadata": {
        "id": "A3zbA9rfCfRh",
        "colab_type": "code",
        "colab": {}
      },
      "source": [
        "# create a dataframe\n",
        "df = pd.DataFrame({'label':dataset.target,\n",
        "                   'text':dataset.data})"
      ],
      "execution_count": 0,
      "outputs": []
    },
    {
      "cell_type": "code",
      "metadata": {
        "id": "lifPA3p6C853",
        "colab_type": "code",
        "outputId": "a3acb119-d0c5-4271-fa0c-83aeefd06281",
        "colab": {
          "base_uri": "https://localhost:8080/",
          "height": 34
        }
      },
      "source": [
        "df.shape"
      ],
      "execution_count": 0,
      "outputs": [
        {
          "output_type": "execute_result",
          "data": {
            "text/plain": [
              "(11314, 2)"
            ]
          },
          "metadata": {
            "tags": []
          },
          "execution_count": 9
        }
      ]
    },
    {
      "cell_type": "code",
      "metadata": {
        "id": "D9h6xqhknZjE",
        "colab_type": "code",
        "outputId": "9d701088-7496-495b-8cdd-3f881c5a66cc",
        "colab": {
          "base_uri": "https://localhost:8080/",
          "height": 204
        }
      },
      "source": [
        "df.head()"
      ],
      "execution_count": 0,
      "outputs": [
        {
          "output_type": "execute_result",
          "data": {
            "text/html": [
              "<div>\n",
              "<style scoped>\n",
              "    .dataframe tbody tr th:only-of-type {\n",
              "        vertical-align: middle;\n",
              "    }\n",
              "\n",
              "    .dataframe tbody tr th {\n",
              "        vertical-align: top;\n",
              "    }\n",
              "\n",
              "    .dataframe thead th {\n",
              "        text-align: right;\n",
              "    }\n",
              "</style>\n",
              "<table border=\"1\" class=\"dataframe\">\n",
              "  <thead>\n",
              "    <tr style=\"text-align: right;\">\n",
              "      <th></th>\n",
              "      <th>label</th>\n",
              "      <th>text</th>\n",
              "    </tr>\n",
              "  </thead>\n",
              "  <tbody>\n",
              "    <tr>\n",
              "      <th>0</th>\n",
              "      <td>17</td>\n",
              "      <td>Well i'm not sure about the story nad it did s...</td>\n",
              "    </tr>\n",
              "    <tr>\n",
              "      <th>1</th>\n",
              "      <td>0</td>\n",
              "      <td>\\n\\n\\n\\n\\n\\n\\nYeah, do you expect people to re...</td>\n",
              "    </tr>\n",
              "    <tr>\n",
              "      <th>2</th>\n",
              "      <td>17</td>\n",
              "      <td>Although I realize that principle is not one o...</td>\n",
              "    </tr>\n",
              "    <tr>\n",
              "      <th>3</th>\n",
              "      <td>11</td>\n",
              "      <td>Notwithstanding all the legitimate fuss about ...</td>\n",
              "    </tr>\n",
              "    <tr>\n",
              "      <th>4</th>\n",
              "      <td>10</td>\n",
              "      <td>Well, I will have to change the scoring on my ...</td>\n",
              "    </tr>\n",
              "  </tbody>\n",
              "</table>\n",
              "</div>"
            ],
            "text/plain": [
              "   label                                               text\n",
              "0     17  Well i'm not sure about the story nad it did s...\n",
              "1      0  \\n\\n\\n\\n\\n\\n\\nYeah, do you expect people to re...\n",
              "2     17  Although I realize that principle is not one o...\n",
              "3     11  Notwithstanding all the legitimate fuss about ...\n",
              "4     10  Well, I will have to change the scoring on my ..."
            ]
          },
          "metadata": {
            "tags": []
          },
          "execution_count": 10
        }
      ]
    },
    {
      "cell_type": "code",
      "metadata": {
        "id": "1P5OelaiCmna",
        "colab_type": "code",
        "colab": {}
      },
      "source": [
        "df = df[df['label'].isin([1,10])]\n",
        "df = df.reset_index(drop = True)"
      ],
      "execution_count": 0,
      "outputs": []
    },
    {
      "cell_type": "code",
      "metadata": {
        "id": "6zbrKEr7C419",
        "colab_type": "code",
        "outputId": "20e2be24-9e06-4993-9c50-c1e1397f0857",
        "colab": {
          "base_uri": "https://localhost:8080/",
          "height": 68
        }
      },
      "source": [
        "df['label'].value_counts()"
      ],
      "execution_count": 0,
      "outputs": [
        {
          "output_type": "execute_result",
          "data": {
            "text/plain": [
              "10    600\n",
              "1     584\n",
              "Name: label, dtype: int64"
            ]
          },
          "metadata": {
            "tags": []
          },
          "execution_count": 12
        }
      ]
    },
    {
      "cell_type": "code",
      "metadata": {
        "id": "MC_k4yiunfK-",
        "colab_type": "code",
        "outputId": "5333e022-919d-457d-e643-e89a48eebe46",
        "colab": {
          "base_uri": "https://localhost:8080/",
          "height": 204
        }
      },
      "source": [
        "df.head()"
      ],
      "execution_count": 0,
      "outputs": [
        {
          "output_type": "execute_result",
          "data": {
            "text/html": [
              "<div>\n",
              "<style scoped>\n",
              "    .dataframe tbody tr th:only-of-type {\n",
              "        vertical-align: middle;\n",
              "    }\n",
              "\n",
              "    .dataframe tbody tr th {\n",
              "        vertical-align: top;\n",
              "    }\n",
              "\n",
              "    .dataframe thead th {\n",
              "        text-align: right;\n",
              "    }\n",
              "</style>\n",
              "<table border=\"1\" class=\"dataframe\">\n",
              "  <thead>\n",
              "    <tr style=\"text-align: right;\">\n",
              "      <th></th>\n",
              "      <th>label</th>\n",
              "      <th>text</th>\n",
              "    </tr>\n",
              "  </thead>\n",
              "  <tbody>\n",
              "    <tr>\n",
              "      <th>0</th>\n",
              "      <td>10</td>\n",
              "      <td>Well, I will have to change the scoring on my ...</td>\n",
              "    </tr>\n",
              "    <tr>\n",
              "      <th>1</th>\n",
              "      <td>1</td>\n",
              "      <td>Archive-name: graphics/resources-list/part1\\nL...</td>\n",
              "    </tr>\n",
              "    <tr>\n",
              "      <th>2</th>\n",
              "      <td>10</td>\n",
              "      <td>\\nAnd of course, Mike Ramsey was (at one time)...</td>\n",
              "    </tr>\n",
              "    <tr>\n",
              "      <th>3</th>\n",
              "      <td>10</td>\n",
              "      <td>As I promised, I would give you the name of th...</td>\n",
              "    </tr>\n",
              "    <tr>\n",
              "      <th>4</th>\n",
              "      <td>10</td>\n",
              "      <td>GAME(S) OF 4/15\\n---------------\\nADIRONDACK 6...</td>\n",
              "    </tr>\n",
              "  </tbody>\n",
              "</table>\n",
              "</div>"
            ],
            "text/plain": [
              "   label                                               text\n",
              "0     10  Well, I will have to change the scoring on my ...\n",
              "1      1  Archive-name: graphics/resources-list/part1\\nL...\n",
              "2     10  \\nAnd of course, Mike Ramsey was (at one time)...\n",
              "3     10  As I promised, I would give you the name of th...\n",
              "4     10  GAME(S) OF 4/15\\n---------------\\nADIRONDACK 6..."
            ]
          },
          "metadata": {
            "tags": []
          },
          "execution_count": 13
        }
      ]
    },
    {
      "cell_type": "markdown",
      "metadata": {
        "id": "_SXRszhllc-E",
        "colab_type": "text"
      },
      "source": [
        "### Preprocessing"
      ]
    },
    {
      "cell_type": "code",
      "metadata": {
        "id": "THgv8hHrC8wD",
        "colab_type": "code",
        "colab": {}
      },
      "source": [
        "df['text'] = df['text'].str.replace(\"[^a-zA-Z]\", \" \")"
      ],
      "execution_count": 0,
      "outputs": []
    },
    {
      "cell_type": "code",
      "metadata": {
        "id": "Uxc4Yd76Dw73",
        "colab_type": "code",
        "outputId": "b2abcdf3-fde6-46a8-8819-222012df7ba4",
        "colab": {
          "base_uri": "https://localhost:8080/",
          "height": 68
        }
      },
      "source": [
        "import nltk\n",
        "nltk.download('stopwords')"
      ],
      "execution_count": 0,
      "outputs": [
        {
          "output_type": "stream",
          "text": [
            "[nltk_data] Downloading package stopwords to /root/nltk_data...\n",
            "[nltk_data]   Unzipping corpora/stopwords.zip.\n"
          ],
          "name": "stdout"
        },
        {
          "output_type": "execute_result",
          "data": {
            "text/plain": [
              "True"
            ]
          },
          "metadata": {
            "tags": []
          },
          "execution_count": 15
        }
      ]
    },
    {
      "cell_type": "code",
      "metadata": {
        "id": "IqG4He_qD1HW",
        "colab_type": "code",
        "colab": {}
      },
      "source": [
        "from nltk.corpus import stopwords \n",
        "stop_words = stopwords.words('english') "
      ],
      "execution_count": 0,
      "outputs": []
    },
    {
      "cell_type": "code",
      "metadata": {
        "id": "UmZQe0z9D31M",
        "colab_type": "code",
        "colab": {}
      },
      "source": [
        "# tokenization \n",
        "tokenized_doc = df['text'].apply(lambda x: x.split())\n",
        "\n",
        "# remove stop-words \n",
        "tokenized_doc = tokenized_doc.apply(lambda x: [item for item in x if item not in stop_words]) \n",
        "\n",
        "# de-tokenization \n",
        "detokenized_doc = [] \n",
        "for i in range(len(df)): \n",
        "    t = ' '.join(tokenized_doc[i]) \n",
        "    detokenized_doc.append(t) \n",
        "df['text'] = detokenized_doc"
      ],
      "execution_count": 0,
      "outputs": []
    },
    {
      "cell_type": "code",
      "metadata": {
        "id": "DmINGGLXnoe8",
        "colab_type": "code",
        "outputId": "b4f0e384-8d0a-4e41-cf77-616b8d508cd6",
        "colab": {
          "base_uri": "https://localhost:8080/",
          "height": 204
        }
      },
      "source": [
        "df.head()"
      ],
      "execution_count": 0,
      "outputs": [
        {
          "output_type": "execute_result",
          "data": {
            "text/html": [
              "<div>\n",
              "<style scoped>\n",
              "    .dataframe tbody tr th:only-of-type {\n",
              "        vertical-align: middle;\n",
              "    }\n",
              "\n",
              "    .dataframe tbody tr th {\n",
              "        vertical-align: top;\n",
              "    }\n",
              "\n",
              "    .dataframe thead th {\n",
              "        text-align: right;\n",
              "    }\n",
              "</style>\n",
              "<table border=\"1\" class=\"dataframe\">\n",
              "  <thead>\n",
              "    <tr style=\"text-align: right;\">\n",
              "      <th></th>\n",
              "      <th>label</th>\n",
              "      <th>text</th>\n",
              "    </tr>\n",
              "  </thead>\n",
              "  <tbody>\n",
              "    <tr>\n",
              "      <th>0</th>\n",
              "      <td>10</td>\n",
              "      <td>Well I change scoring playoff pool Unfortunate...</td>\n",
              "    </tr>\n",
              "    <tr>\n",
              "      <th>1</th>\n",
              "      <td>1</td>\n",
              "      <td>Archive name graphics resources list part Last...</td>\n",
              "    </tr>\n",
              "    <tr>\n",
              "      <th>2</th>\n",
              "      <td>10</td>\n",
              "      <td>And course Mike Ramsey one time captain Buffal...</td>\n",
              "    </tr>\n",
              "    <tr>\n",
              "      <th>3</th>\n",
              "      <td>10</td>\n",
              "      <td>As I promised I would give name Panther presid...</td>\n",
              "    </tr>\n",
              "    <tr>\n",
              "      <th>4</th>\n",
              "      <td>10</td>\n",
              "      <td>GAME S OF ADIRONDACK CDI Adirondack leads seri...</td>\n",
              "    </tr>\n",
              "  </tbody>\n",
              "</table>\n",
              "</div>"
            ],
            "text/plain": [
              "   label                                               text\n",
              "0     10  Well I change scoring playoff pool Unfortunate...\n",
              "1      1  Archive name graphics resources list part Last...\n",
              "2     10  And course Mike Ramsey one time captain Buffal...\n",
              "3     10  As I promised I would give name Panther presid...\n",
              "4     10  GAME S OF ADIRONDACK CDI Adirondack leads seri..."
            ]
          },
          "metadata": {
            "tags": []
          },
          "execution_count": 18
        }
      ]
    },
    {
      "cell_type": "code",
      "metadata": {
        "id": "JOAXgBJhnuOE",
        "colab_type": "code",
        "outputId": "a0bb7821-aa51-4ad8-df69-6d52d88250e4",
        "colab": {
          "base_uri": "https://localhost:8080/",
          "height": 54
        }
      },
      "source": [
        "df.text[0]"
      ],
      "execution_count": 0,
      "outputs": [
        {
          "output_type": "execute_result",
          "data": {
            "text/plain": [
              "'Well I change scoring playoff pool Unfortunately I time right I certainly post new scoring rules tomorrow Does matter No enter anyway Good Keith Keller LET S GO RANGERS LET S GO QUAKERS kkeller mail sas upenn edu IVY LEAGUE CHAMPS'"
            ]
          },
          "metadata": {
            "tags": []
          },
          "execution_count": 19
        }
      ]
    },
    {
      "cell_type": "code",
      "metadata": {
        "id": "MK_i0X2kD6AC",
        "colab_type": "code",
        "colab": {}
      },
      "source": [
        "from sklearn.model_selection import train_test_split\n",
        "\n",
        "# split data into training and validation set\n",
        "df_trn, df_val = train_test_split(df, stratify = df['label'], test_size = 0.4, random_state = 12)"
      ],
      "execution_count": 0,
      "outputs": []
    },
    {
      "cell_type": "code",
      "metadata": {
        "id": "IYEFCrJOEHSG",
        "colab_type": "code",
        "outputId": "4c882909-e439-46a2-8eeb-41d3b7bb9c37",
        "colab": {
          "base_uri": "https://localhost:8080/",
          "height": 34
        }
      },
      "source": [
        "df_trn.shape, df_val.shape"
      ],
      "execution_count": 0,
      "outputs": [
        {
          "output_type": "execute_result",
          "data": {
            "text/plain": [
              "((710, 2), (474, 2))"
            ]
          },
          "metadata": {
            "tags": []
          },
          "execution_count": 21
        }
      ]
    },
    {
      "cell_type": "markdown",
      "metadata": {
        "id": "xvvFWWM4ljoH",
        "colab_type": "text"
      },
      "source": [
        "### Data Preparation"
      ]
    },
    {
      "cell_type": "code",
      "metadata": {
        "id": "7tNP_aMTEOKe",
        "colab_type": "code",
        "colab": {}
      },
      "source": [
        "# Language model data\n",
        "data_lm = TextLMDataBunch.from_df(train_df = df_trn, valid_df = df_val, path = \"\")\n",
        "\n",
        "# Classifier model data\n",
        "data_clas = TextClasDataBunch.from_df(path = \"\", train_df = df_trn, valid_df = df_val, vocab=data_lm.train_ds.vocab, bs=32)"
      ],
      "execution_count": 0,
      "outputs": []
    },
    {
      "cell_type": "code",
      "metadata": {
        "id": "IPBzufDdoEfi",
        "colab_type": "code",
        "outputId": "4a171366-0cd1-4c4f-c06a-6fa2f62aaa0d",
        "colab": {
          "base_uri": "https://localhost:8080/",
          "height": 326
        }
      },
      "source": [
        "data_lm"
      ],
      "execution_count": 0,
      "outputs": [
        {
          "output_type": "execute_result",
          "data": {
            "text/plain": [
              "TextLMDataBunch;\n",
              "\n",
              "Train: LabelList (710 items)\n",
              "x: LMTextList\n",
              "xxbos xxmaj it looks like xxmaj edmonton xxmaj oilers decided take xxmaj european xxunk spring xxmaj ranford xxmaj tugnutt xxmaj benning xxmaj manson xxmaj smith xxmaj buchberger xxmaj corson playing xxmaj canada xxmaj podein xxmaj weight playing xxup us xxmaj is xxmaj kravchuk playing xxmaj xxunk i know nagging injuries late season xxmaj podein interesting case eligible play xxmaj cape xxmaj breton xxup ahl playoffs like xxmaj kovalev xxmaj zubov xxmaj andersson obviously xxmaj sather xxmaj pocklington total xxunk everyone makes certainly case massively xxunk xxmaj paramount xxmaj new xxmaj york xxmaj rangers,xxbos xxmaj this xxunk xxmaj speaking die hard i i read xxunk hard xxunk xxmaj toronto xxmaj cup finals xxmaj first anyone planet heard team xxmaj detroit xxmaj al xxmaj xxunk however spell idiot name must xxmaj chicago xxup espn said even close xxmaj chicago xxunk win xxmaj norris xxmaj division xxmaj playoffs team close xxmaj everyone picking xxmaj chicago i get says easy choice xxmaj god xxmaj chicago xxmaj wings division point two followed closely xxmaj toronto also good team xxmaj as xxmaj leafs beating xxmaj detroit doubt even going get xxmaj chicago xxmaj if even xxunk get past xxmaj hawks would probably face xxmaj vancouver lose xxmaj as xxmaj the xxmaj habs reaching xxmaj finals forget xxmaj even i devoted xxmaj wings fan watch xxmaj penguins easily three xxunk xxmaj cup winners xxmaj lemieux xxmaj jagr xxmaj tocchet xxmaj stevens xxmaj barrasso done deal xxmaj sorry xxmaj detroit wait xxunk next year xxmaj but hey xxmaj paul picks everyone right xxunk xxmaj leafs xxmaj finals xxmaj yeah xxmaj if make i walk xxmaj toronto get tickets mile walk xxmaj ryan,xxbos xxmaj the idea clip one polygon using another polygon necessarily rectangular window xxmaj my problem finding new vertices resulting xxunk first one xxmaj is simply matter extending usual algorithm whereby edges one polygon checked another polygon xxmaj is simpler way xxmaj comments welcome,xxbos i xxmaj edmonton usually least xxup often case xxunk actual xxup abc xxunk xxmaj kings xxmaj flames game i whoever said earlier xxmaj don xxmaj xxunk er xxmaj whitman poor commentator hockey xxmaj normally xxmaj oilers still playing xxunk i would turn sound listen radio broadcast get decent play play announcing,xxbos xxmaj you know absolutely right i think round players xxmaj european xxunk ship em back came xxmaj let see start i dunno xxmaj lemieux xxmaj hmmm sounds like xxmaj french blood xxmaj hey xxmaj france part xxmaj europe xxmaj send xxmaj xxunk xxunk boy back xxmaj sheesh i think would hard find xxmaj native xxmaj americans xxmaj native xxmaj canadians matter would xxunk claim great continent xxmaj ya see believe xxunk xxunk sort xxmaj if really think xxmaj mogilny xxmaj bure xxmaj selanne et al improved xxup nhl i sure understand game\n",
              "y: LMLabelList\n",
              ",,,,\n",
              "Path: .;\n",
              "\n",
              "Valid: LabelList (474 items)\n",
              "x: LMTextList\n",
              "xxbos i looking source code radiosity method i know kind machine want program xxmaj radiance comes c source code i ftp access i tell get via way,xxbos i interested information xxunk imaging sun workstation xxmaj for part i need know hardware available interface system whether xxunk rates sufficient produce quality image xxunk xxmaj any information subject would greatly appreciated,xxbos xxmaj does anyone xxup nhl xxup standings xxmaj march th i need xxup xxunk project xxmaj please post email xxup thanks,xxbos a little xxunk xxmaj basic xxmaj mike info xxmaj for xxmaj xxunk xxunk xxup abc announcing xxunk xxmaj devils xxmaj isles xxmaj pittsburgh xxmaj gary xxmaj thorne play play xxmaj bill xxmaj clement color xxmaj al xxmaj xxunk xxunk xxunk outside xxunk xxunk xxmaj this xxunk primarily seen xxmaj east xxmaj coast xxmaj st xxmaj louis xxmaj chicago xxmaj mike xxmaj xxunk play play xxmaj jim xxmaj xxunk color xxmaj tom xxmaj xxunk xxunk xxunk xxmaj this xxunk primarily seen xxmaj midwest parts xxmaj south xxup la xxmaj calgary xxmaj al xxmaj do xxmaj you xxmaj believe xxmaj xxunk xxmaj michaels play play xxmaj john xxmaj davidson color xxmaj mark xxmaj jones xxunk reporter xxmaj this xxunk seen xxmaj western xxup usa xxmaj montreal xxunk xxmaj xxunk xxmaj xxunk xxunk studio xxup abc xxmaj up xxmaj close xxmaj personal xxmaj mario xxmaj saturday xxmaj wide xxmaj world xxmaj sports xxup edt xxmaj sunday first xxup nhl playoff regular network xxunk years counting silly xxmaj all xxmaj star games xxup xxunk last years xxmaj for xxmaj sunday games xxup abc use xxunk behind goal super super xxunk xxunk close xxunk player faces face xxunk xxup espn xxup abc able use new favorite xxunk ice level shot xxmaj pittsburgh many seats would removed xxunk xxmaj in case blowout xxunk xxmaj pittsburgh xxup abc switch xxmaj chicago game come back xxmaj pittsburgh game updates game gets closer xxmaj xxunk xxup abc xxunk huge ratings hockey standards since xxmaj top xxup us xxup tv markets involved xxup ny xxunk area xxup ny xxmaj islanders xxup nj xxmaj devils xxmaj chicago blackhawks xxup la xxmaj kings xxmaj stay tuned xxmaj thanks xxmaj mike,xxbos xxmaj world xxmaj championships xxmaj germany xxmaj group a results xxup sweden xxup canada st nd xxup can xxmaj geoff xxmaj sanderson xxmaj kevin xxmaj dineen xxup xxunk xxmaj patrik xxmaj xxunk xxmaj jan xxmaj xxunk pp rd xxup can xxmaj geoff xxmaj sanderson ps xxup can xxmaj mike xxmaj gartner xxmaj greg xxmaj xxunk xxmaj adam xxmaj graves xxup can xxmaj rod xxmaj brind xxmaj amour xxmaj shayne xxmaj corson xxmaj shots goal xxmaj penalties xxmaj attendance xxmaj referee xxmaj sweden min xxmaj rob xxmaj xxunk xxup usa xxmaj canada min xxmaj bill xxmaj ranford stopped shots lead xxmaj canada victory well played game xxmaj the first period started give away xxmaj canadian defenseman xxmaj xxunk came alone xxmaj ranford put puck xxunk xxmaj ranford xxmaj later xxmaj kevin xxmaj dineen great opportunity xxmaj soderstrom played well xxmaj xxunk xxmaj nilsson couple great xxunk set xxmaj jan xxmaj xxunk xxmaj ranford came big xxmaj period ended xxunk edge xxmaj sweden creating opportunities xxmaj second period action saw xxmaj tommy xxmaj soderstrom making xxup great save xxmaj mark xxmaj recchi made xxunk cross ice pass xxmaj lindros xxmaj eric one xxunk puck xxmaj soderstrom make glove hand save xxmaj at minute mark xxmaj canada started applying pressure xxmaj xxunk xxmaj sanderson xxmaj dineen xxmaj brind xxmaj amour worked hard kept puck xxmaj xxunk zone xxmaj dineen gave puck xxmaj sanderson skated around xxunk xxmaj swedish defenseman came xxmaj soderstrom made wrist shot went xxmaj soderstrom far post xxmaj canada xxmaj the xxmaj xxunk picked game xxmaj peter xxmaj xxunk shot hit xxmaj ranford post inside went parallel goal line xxmaj then xxmaj gartner got penalty xxmaj xxunk power play xxmaj jan xxmaj xxunk took shot slot xxmaj ranford gave rebound xxmaj xxunk saw xxmaj xxunk far post passed puck xxmaj ranford beat xxmaj third period started periods xxmaj xxunk pressure xxmaj canadians always xxunk close xxmaj xxunk goal xxmaj at xxmaj canada created great chances xxmaj xxunk xxmaj xxunk forced cover puck xxmaj xxunk goal crease since xxmaj soderstrom lost sight xxmaj that xxunk penalty shot since defenseman cover puck goal crease xxmaj geoff xxmaj sanderson took penalty shot first ever explained xxunk put low xxmaj soderstrom stick side close post xxmaj excellent penalty shot give xxmaj canada go ahead goal xxmaj canada increased lead suspect xxunk xxmaj gartner xxunk bouncing puck past xxmaj soderstrom make xxmaj the xxmaj xxunk xxunk gas produce good scoring chances periods xxmaj the goal came second left xxmaj rod xxmaj brind xxmaj amour scoring rebound xxmaj soderstrom xxmaj swedish defense already xxunk xxunk room a good game best xxup wc far goalies playing great xxmaj soderstrom best player xxmaj sweden xxmaj ranford even played better xxmaj soderstrom tells something xxmaj ranford xxmaj probably best goalie world comments game xxmaj canada played disciplined defense xxmaj ranford pointed easy play well good defense xxmaj lindros played a xxup lot played well xxmaj sanderson xxunk game xxunk two goals xxmaj the xxmaj xxunk xxmaj naslund xxmaj xxunk line xxmaj sweden best along xxmaj xxunk xxmaj xxunk xxmaj nilsson xxmaj swedish defense played well xxunk xxunk xxmaj peter xxmaj xxunk task xxunk xxunk xxunk xxmaj eric xxmaj lindros managed well xxmaj ranger defenseman xxmaj peter xxmaj andersson finally got go xxup wc considering xxunk xxmaj germany hours game played well xxmaj swedish coach xxmaj xxunk xxmaj xxunk xxunk game xxunk xxmaj xxunk xxunk score xxunk linesman mistake goal xxmaj lines information follows xxup italy xxup switzerland st nd xxup xxunk xxmaj xxunk rd xxmaj penalties xxup xxunk min xxup xxunk min xxmaj referee xxmaj xxunk xxmaj xxunk xxmaj slovakia xxmaj attendance xxmaj group b results xxup czech xxup republic xxup germany st nd xxup xxunk xxmaj xxunk xxmaj xxunk xxup xxunk xxmaj jiri xxmaj xxunk xxup xxunk xxmaj petr xxmaj xxunk rd xxup xxunk xxmaj xxunk xxmaj xxunk xxup xxunk xxmaj josef xxmaj beranek xxmaj penalties xxup xxunk min xxup xxunk min min min game penalty xxmaj referee xxmaj xxunk xxmaj xxunk xxmaj canada xxmaj attendance xxmaj the xxmaj xxunk clearly better xxmaj xxunk xxmaj german crowd showed xxunk throwing stuff ice xxup finland xxup usa st nd xxup xxunk xxmaj xxunk xxmaj xxunk rd xxup usa xxmaj ed xxmaj olczyk xxmaj penalties xxup xxunk min xxup usa min xxmaj referee xxmaj xxunk xxmaj xxunk xxmaj russia xxmaj attendance i hope xxmaj xxunk provide information game i see whole game xxmaj the xxmaj xxunk took lead xxmaj xxunk xxmaj xxunk slap shot blue line soft goal xxunk xxmaj mike xxmaj richter xxmaj as far play second period goes xxmaj xxunk seemed control lead warranted i saw xxup sweden xxup canada xxmaj goaltender xxmaj tommy xxmaj soderstrom xxmaj bill xxmaj ranford xxmaj defense xxmaj kenneth xxmaj xxunk xxmaj norm xxmaj maciver xxmaj fredrik xxmaj stillman xxmaj dave xxmaj manson xxmaj peter xxmaj xxunk xxmaj geoff xxmaj smith xxmaj peter xxmaj andersson xxmaj brian xxmaj benning xxmaj xxunk xxmaj xxunk xxmaj terry xxmaj carkner xxmaj roger xxmaj xxunk xxmaj garry xxmaj galley xxmaj derek xxmaj xxunk xxmaj forwards xxmaj mikael xxmaj xxunk xxmaj dave xxmaj gagner xxmaj thomas xxmaj xxunk xxmaj adam xxmaj graves xxmaj mikael xxmaj andersson xxmaj mike xxmaj gartner xxmaj markus xxmaj naslund xxmaj paul xxmaj kariya xxmaj peter xxmaj xxunk xxmaj eric xxmaj lindros xxmaj jonas xxmaj xxunk xxmaj mark xxmaj recchi xxmaj patrik xxmaj xxunk xxmaj rod xxmaj brind xxmaj amour xxmaj jan xxmaj xxunk xxmaj shayne xxmaj corson xxmaj xxunk xxmaj nilsson xxmaj kevin xxmaj dineen xxmaj xxunk xxmaj xxunk xxmaj geoff xxmaj sanderson xxmaj michael xxmaj nylander xxmaj greg xxmaj xxunk xxmaj andersson xxmaj xxunk xxmaj brian xxmaj savage xxmaj kelly xxmaj buchberger\n",
              "y: LMLabelList\n",
              ",,,,\n",
              "Path: .;\n",
              "\n",
              "Test: None"
            ]
          },
          "metadata": {
            "tags": []
          },
          "execution_count": 23
        }
      ]
    },
    {
      "cell_type": "code",
      "metadata": {
        "id": "OMxh9WqCoMPR",
        "colab_type": "code",
        "outputId": "8fad57e0-eb74-4a63-b09f-5cb0a85a222c",
        "colab": {
          "base_uri": "https://localhost:8080/",
          "height": 326
        }
      },
      "source": [
        "data_clas"
      ],
      "execution_count": 0,
      "outputs": [
        {
          "output_type": "execute_result",
          "data": {
            "text/plain": [
              "TextClasDataBunch;\n",
              "\n",
              "Train: LabelList (710 items)\n",
              "x: TextList\n",
              "xxbos xxmaj it looks like xxmaj edmonton xxmaj oilers decided take xxmaj european xxunk spring xxmaj ranford xxmaj tugnutt xxmaj benning xxmaj manson xxmaj smith xxmaj buchberger xxmaj corson playing xxmaj canada xxmaj podein xxmaj weight playing xxup us xxmaj is xxmaj kravchuk playing xxmaj xxunk i know nagging injuries late season xxmaj podein interesting case eligible play xxmaj cape xxmaj breton xxup ahl playoffs like xxmaj kovalev xxmaj zubov xxmaj andersson obviously xxmaj sather xxmaj pocklington total xxunk everyone makes certainly case massively xxunk xxmaj paramount xxmaj new xxmaj york xxmaj rangers,xxbos xxmaj this xxunk xxmaj speaking die hard i i read xxunk hard xxunk xxmaj toronto xxmaj cup finals xxmaj first anyone planet heard team xxmaj detroit xxmaj al xxmaj xxunk however spell idiot name must xxmaj chicago xxup espn said even close xxmaj chicago xxunk win xxmaj norris xxmaj division xxmaj playoffs team close xxmaj everyone picking xxmaj chicago i get says easy choice xxmaj god xxmaj chicago xxmaj wings division point two followed closely xxmaj toronto also good team xxmaj as xxmaj leafs beating xxmaj detroit doubt even going get xxmaj chicago xxmaj if even xxunk get past xxmaj hawks would probably face xxmaj vancouver lose xxmaj as xxmaj the xxmaj habs reaching xxmaj finals forget xxmaj even i devoted xxmaj wings fan watch xxmaj penguins easily three xxunk xxmaj cup winners xxmaj lemieux xxmaj jagr xxmaj tocchet xxmaj stevens xxmaj barrasso done deal xxmaj sorry xxmaj detroit wait xxunk next year xxmaj but hey xxmaj paul picks everyone right xxunk xxmaj leafs xxmaj finals xxmaj yeah xxmaj if make i walk xxmaj toronto get tickets mile walk xxmaj ryan,xxbos xxmaj the idea clip one polygon using another polygon necessarily rectangular window xxmaj my problem finding new vertices resulting xxunk first one xxmaj is simply matter extending usual algorithm whereby edges one polygon checked another polygon xxmaj is simpler way xxmaj comments welcome,xxbos i xxmaj edmonton usually least xxup often case xxunk actual xxup abc xxunk xxmaj kings xxmaj flames game i whoever said earlier xxmaj don xxmaj xxunk er xxmaj whitman poor commentator hockey xxmaj normally xxmaj oilers still playing xxunk i would turn sound listen radio broadcast get decent play play announcing,xxbos xxmaj you know absolutely right i think round players xxmaj european xxunk ship em back came xxmaj let see start i dunno xxmaj lemieux xxmaj hmmm sounds like xxmaj french blood xxmaj hey xxmaj france part xxmaj europe xxmaj send xxmaj xxunk xxunk boy back xxmaj sheesh i think would hard find xxmaj native xxmaj americans xxmaj native xxmaj canadians matter would xxunk claim great continent xxmaj ya see believe xxunk xxunk sort xxmaj if really think xxmaj mogilny xxmaj bure xxmaj selanne et al improved xxup nhl i sure understand game\n",
              "y: CategoryList\n",
              "10,10,1,10,10\n",
              "Path: .;\n",
              "\n",
              "Valid: LabelList (474 items)\n",
              "x: TextList\n",
              "xxbos i looking source code radiosity method i know kind machine want program xxmaj radiance comes c source code i ftp access i tell get via way,xxbos i interested information xxunk imaging sun workstation xxmaj for part i need know hardware available interface system whether xxunk rates sufficient produce quality image xxunk xxmaj any information subject would greatly appreciated,xxbos xxmaj does anyone xxup nhl xxup standings xxmaj march th i need xxup xxunk project xxmaj please post email xxup thanks,xxbos a little xxunk xxmaj basic xxmaj mike info xxmaj for xxmaj xxunk xxunk xxup abc announcing xxunk xxmaj devils xxmaj isles xxmaj pittsburgh xxmaj gary xxmaj thorne play play xxmaj bill xxmaj clement color xxmaj al xxmaj xxunk xxunk xxunk outside xxunk xxunk xxmaj this xxunk primarily seen xxmaj east xxmaj coast xxmaj st xxmaj louis xxmaj chicago xxmaj mike xxmaj xxunk play play xxmaj jim xxmaj xxunk color xxmaj tom xxmaj xxunk xxunk xxunk xxmaj this xxunk primarily seen xxmaj midwest parts xxmaj south xxup la xxmaj calgary xxmaj al xxmaj do xxmaj you xxmaj believe xxmaj xxunk xxmaj michaels play play xxmaj john xxmaj davidson color xxmaj mark xxmaj jones xxunk reporter xxmaj this xxunk seen xxmaj western xxup usa xxmaj montreal xxunk xxmaj xxunk xxmaj xxunk xxunk studio xxup abc xxmaj up xxmaj close xxmaj personal xxmaj mario xxmaj saturday xxmaj wide xxmaj world xxmaj sports xxup edt xxmaj sunday first xxup nhl playoff regular network xxunk years counting silly xxmaj all xxmaj star games xxup xxunk last years xxmaj for xxmaj sunday games xxup abc use xxunk behind goal super super xxunk xxunk close xxunk player faces face xxunk xxup espn xxup abc able use new favorite xxunk ice level shot xxmaj pittsburgh many seats would removed xxunk xxmaj in case blowout xxunk xxmaj pittsburgh xxup abc switch xxmaj chicago game come back xxmaj pittsburgh game updates game gets closer xxmaj xxunk xxup abc xxunk huge ratings hockey standards since xxmaj top xxup us xxup tv markets involved xxup ny xxunk area xxup ny xxmaj islanders xxup nj xxmaj devils xxmaj chicago blackhawks xxup la xxmaj kings xxmaj stay tuned xxmaj thanks xxmaj mike,xxbos xxmaj world xxmaj championships xxmaj germany xxmaj group a results xxup sweden xxup canada st nd xxup can xxmaj geoff xxmaj sanderson xxmaj kevin xxmaj dineen xxup xxunk xxmaj patrik xxmaj xxunk xxmaj jan xxmaj xxunk pp rd xxup can xxmaj geoff xxmaj sanderson ps xxup can xxmaj mike xxmaj gartner xxmaj greg xxmaj xxunk xxmaj adam xxmaj graves xxup can xxmaj rod xxmaj brind xxmaj amour xxmaj shayne xxmaj corson xxmaj shots goal xxmaj penalties xxmaj attendance xxmaj referee xxmaj sweden min xxmaj rob xxmaj xxunk xxup usa xxmaj canada min xxmaj bill xxmaj ranford stopped shots lead xxmaj canada victory well played game xxmaj the first period started give away xxmaj canadian defenseman xxmaj xxunk came alone xxmaj ranford put puck xxunk xxmaj ranford xxmaj later xxmaj kevin xxmaj dineen great opportunity xxmaj soderstrom played well xxmaj xxunk xxmaj nilsson couple great xxunk set xxmaj jan xxmaj xxunk xxmaj ranford came big xxmaj period ended xxunk edge xxmaj sweden creating opportunities xxmaj second period action saw xxmaj tommy xxmaj soderstrom making xxup great save xxmaj mark xxmaj recchi made xxunk cross ice pass xxmaj lindros xxmaj eric one xxunk puck xxmaj soderstrom make glove hand save xxmaj at minute mark xxmaj canada started applying pressure xxmaj xxunk xxmaj sanderson xxmaj dineen xxmaj brind xxmaj amour worked hard kept puck xxmaj xxunk zone xxmaj dineen gave puck xxmaj sanderson skated around xxunk xxmaj swedish defenseman came xxmaj soderstrom made wrist shot went xxmaj soderstrom far post xxmaj canada xxmaj the xxmaj xxunk picked game xxmaj peter xxmaj xxunk shot hit xxmaj ranford post inside went parallel goal line xxmaj then xxmaj gartner got penalty xxmaj xxunk power play xxmaj jan xxmaj xxunk took shot slot xxmaj ranford gave rebound xxmaj xxunk saw xxmaj xxunk far post passed puck xxmaj ranford beat xxmaj third period started periods xxmaj xxunk pressure xxmaj canadians always xxunk close xxmaj xxunk goal xxmaj at xxmaj canada created great chances xxmaj xxunk xxmaj xxunk forced cover puck xxmaj xxunk goal crease since xxmaj soderstrom lost sight xxmaj that xxunk penalty shot since defenseman cover puck goal crease xxmaj geoff xxmaj sanderson took penalty shot first ever explained xxunk put low xxmaj soderstrom stick side close post xxmaj excellent penalty shot give xxmaj canada go ahead goal xxmaj canada increased lead suspect xxunk xxmaj gartner xxunk bouncing puck past xxmaj soderstrom make xxmaj the xxmaj xxunk xxunk gas produce good scoring chances periods xxmaj the goal came second left xxmaj rod xxmaj brind xxmaj amour scoring rebound xxmaj soderstrom xxmaj swedish defense already xxunk xxunk room a good game best xxup wc far goalies playing great xxmaj soderstrom best player xxmaj sweden xxmaj ranford even played better xxmaj soderstrom tells something xxmaj ranford xxmaj probably best goalie world comments game xxmaj canada played disciplined defense xxmaj ranford pointed easy play well good defense xxmaj lindros played a xxup lot played well xxmaj sanderson xxunk game xxunk two goals xxmaj the xxmaj xxunk xxmaj naslund xxmaj xxunk line xxmaj sweden best along xxmaj xxunk xxmaj xxunk xxmaj nilsson xxmaj swedish defense played well xxunk xxunk xxmaj peter xxmaj xxunk task xxunk xxunk xxunk xxmaj eric xxmaj lindros managed well xxmaj ranger defenseman xxmaj peter xxmaj andersson finally got go xxup wc considering xxunk xxmaj germany hours game played well xxmaj swedish coach xxmaj xxunk xxmaj xxunk xxunk game xxunk xxmaj xxunk xxunk score xxunk linesman mistake goal xxmaj lines information follows xxup italy xxup switzerland st nd xxup xxunk xxmaj xxunk rd xxmaj penalties xxup xxunk min xxup xxunk min xxmaj referee xxmaj xxunk xxmaj xxunk xxmaj slovakia xxmaj attendance xxmaj group b results xxup czech xxup republic xxup germany st nd xxup xxunk xxmaj xxunk xxmaj xxunk xxup xxunk xxmaj jiri xxmaj xxunk xxup xxunk xxmaj petr xxmaj xxunk rd xxup xxunk xxmaj xxunk xxmaj xxunk xxup xxunk xxmaj josef xxmaj beranek xxmaj penalties xxup xxunk min xxup xxunk min min min game penalty xxmaj referee xxmaj xxunk xxmaj xxunk xxmaj canada xxmaj attendance xxmaj the xxmaj xxunk clearly better xxmaj xxunk xxmaj german crowd showed xxunk throwing stuff ice xxup finland xxup usa st nd xxup xxunk xxmaj xxunk xxmaj xxunk rd xxup usa xxmaj ed xxmaj olczyk xxmaj penalties xxup xxunk min xxup usa min xxmaj referee xxmaj xxunk xxmaj xxunk xxmaj russia xxmaj attendance i hope xxmaj xxunk provide information game i see whole game xxmaj the xxmaj xxunk took lead xxmaj xxunk xxmaj xxunk slap shot blue line soft goal xxunk xxmaj mike xxmaj richter xxmaj as far play second period goes xxmaj xxunk seemed control lead warranted i saw xxup sweden xxup canada xxmaj goaltender xxmaj tommy xxmaj soderstrom xxmaj bill xxmaj ranford xxmaj defense xxmaj kenneth xxmaj xxunk xxmaj norm xxmaj maciver xxmaj fredrik xxmaj stillman xxmaj dave xxmaj manson xxmaj peter xxmaj xxunk xxmaj geoff xxmaj smith xxmaj peter xxmaj andersson xxmaj brian xxmaj benning xxmaj xxunk xxmaj xxunk xxmaj terry xxmaj carkner xxmaj roger xxmaj xxunk xxmaj garry xxmaj galley xxmaj derek xxmaj xxunk xxmaj forwards xxmaj mikael xxmaj xxunk xxmaj dave xxmaj gagner xxmaj thomas xxmaj xxunk xxmaj adam xxmaj graves xxmaj mikael xxmaj andersson xxmaj mike xxmaj gartner xxmaj markus xxmaj naslund xxmaj paul xxmaj kariya xxmaj peter xxmaj xxunk xxmaj eric xxmaj lindros xxmaj jonas xxmaj xxunk xxmaj mark xxmaj recchi xxmaj patrik xxmaj xxunk xxmaj rod xxmaj brind xxmaj amour xxmaj jan xxmaj xxunk xxmaj shayne xxmaj corson xxmaj xxunk xxmaj nilsson xxmaj kevin xxmaj dineen xxmaj xxunk xxmaj xxunk xxmaj geoff xxmaj sanderson xxmaj michael xxmaj nylander xxmaj greg xxmaj xxunk xxmaj andersson xxmaj xxunk xxmaj brian xxmaj savage xxmaj kelly xxmaj buchberger\n",
              "y: CategoryList\n",
              "1,1,10,10,10\n",
              "Path: .;\n",
              "\n",
              "Test: None"
            ]
          },
          "metadata": {
            "tags": []
          },
          "execution_count": 24
        }
      ]
    },
    {
      "cell_type": "code",
      "metadata": {
        "id": "8Ua8pmHEEP5N",
        "colab_type": "code",
        "colab": {}
      },
      "source": [
        "#learn = language_model_learner(data_lm, pretrained_model=URLs.WT103, drop_mult=0.7)\n",
        "learn = language_model_learner(data_lm, AWD_LSTM, drop_mult=0.7)"
      ],
      "execution_count": 0,
      "outputs": []
    },
    {
      "cell_type": "code",
      "metadata": {
        "id": "YE3likAPETlz",
        "colab_type": "code",
        "outputId": "88bee9c5-62e0-4931-c42f-62f7883ff938",
        "colab": {
          "base_uri": "https://localhost:8080/",
          "height": 80
        }
      },
      "source": [
        "# train the learner object\n",
        "learn.fit_one_cycle(1, 1e-2)"
      ],
      "execution_count": 0,
      "outputs": [
        {
          "output_type": "display_data",
          "data": {
            "text/html": [
              "<table border=\"1\" class=\"dataframe\">\n",
              "  <thead>\n",
              "    <tr style=\"text-align: left;\">\n",
              "      <th>epoch</th>\n",
              "      <th>train_loss</th>\n",
              "      <th>valid_loss</th>\n",
              "      <th>accuracy</th>\n",
              "      <th>time</th>\n",
              "    </tr>\n",
              "  </thead>\n",
              "  <tbody>\n",
              "    <tr>\n",
              "      <td>0</td>\n",
              "      <td>6.659338</td>\n",
              "      <td>5.537808</td>\n",
              "      <td>0.231394</td>\n",
              "      <td>00:04</td>\n",
              "    </tr>\n",
              "  </tbody>\n",
              "</table>"
            ],
            "text/plain": [
              "<IPython.core.display.HTML object>"
            ]
          },
          "metadata": {
            "tags": []
          }
        }
      ]
    },
    {
      "cell_type": "code",
      "metadata": {
        "id": "w3eJMLWDKb9u",
        "colab_type": "code",
        "outputId": "3c763e8c-3aca-4c22-d2c8-73310322a47f",
        "colab": {
          "base_uri": "https://localhost:8080/",
          "height": 34
        }
      },
      "source": [
        "learn.lr_find()"
      ],
      "execution_count": 0,
      "outputs": [
        {
          "output_type": "display_data",
          "data": {
            "text/html": [
              ""
            ],
            "text/plain": [
              "<IPython.core.display.HTML object>"
            ]
          },
          "metadata": {
            "tags": []
          }
        },
        {
          "output_type": "stream",
          "text": [
            "LR Finder is complete, type {learner_name}.recorder.plot() to see the graph.\n"
          ],
          "name": "stdout"
        }
      ]
    },
    {
      "cell_type": "code",
      "metadata": {
        "id": "81fA6MpQKpJw",
        "colab_type": "code",
        "outputId": "dd9fd82d-f595-4b66-f687-afeadf8ab9b1",
        "colab": {
          "base_uri": "https://localhost:8080/",
          "height": 283
        }
      },
      "source": [
        "learn.recorder.plot()"
      ],
      "execution_count": 0,
      "outputs": [
        {
          "output_type": "display_data",
          "data": {
            "image/png": "[encoded data removed]",
            "text/plain": [
              "<Figure size 432x288 with 1 Axes>"
            ]
          },
          "metadata": {
            "tags": []
          }
        }
      ]
    },
    {
      "cell_type": "code",
      "metadata": {
        "id": "x7fO0cuVET8W",
        "colab_type": "code",
        "colab": {}
      },
      "source": [
        "learn.save_encoder('ft_enc')"
      ],
      "execution_count": 0,
      "outputs": []
    },
    {
      "cell_type": "code",
      "metadata": {
        "id": "uSkXI7HJET_r",
        "colab_type": "code",
        "colab": {}
      },
      "source": [
        "learn = text_classifier_learner(data_clas, AWD_LSTM, drop_mult=0.7)\n",
        "learn.load_encoder('ft_enc')"
      ],
      "execution_count": 0,
      "outputs": []
    },
    {
      "cell_type": "code",
      "metadata": {
        "id": "1VaunwDAMmLV",
        "colab_type": "code",
        "outputId": "5ea503c9-13b7-416e-86ec-2ce827f45e45",
        "colab": {
          "base_uri": "https://localhost:8080/",
          "height": 300
        }
      },
      "source": [
        "learn.lr_find()\n",
        "learn.recorder.plot()"
      ],
      "execution_count": 0,
      "outputs": [
        {
          "output_type": "display_data",
          "data": {
            "text/html": [
              ""
            ],
            "text/plain": [
              "<IPython.core.display.HTML object>"
            ]
          },
          "metadata": {
            "tags": []
          }
        },
        {
          "output_type": "stream",
          "text": [
            "LR Finder is complete, type {learner_name}.recorder.plot() to see the graph.\n"
          ],
          "name": "stdout"
        },
        {
          "output_type": "display_data",
          "data": {
            "image/png": "[encoded data removed]",
            "text/plain": [
              "<Figure size 432x288 with 1 Axes>"
            ]
          },
          "metadata": {
            "tags": []
          }
        }
      ]
    },
    {
      "cell_type": "code",
      "metadata": {
        "id": "s7GTTw1GMl2F",
        "colab_type": "code",
        "outputId": "9026d125-9f06-47a9-83e1-30e6e8e88ba0",
        "colab": {
          "base_uri": "https://localhost:8080/",
          "height": 80
        }
      },
      "source": [
        "learn.fit_one_cycle(1, 1e-2)"
      ],
      "execution_count": 0,
      "outputs": [
        {
          "output_type": "display_data",
          "data": {
            "text/html": [
              "<table border=\"1\" class=\"dataframe\">\n",
              "  <thead>\n",
              "    <tr style=\"text-align: left;\">\n",
              "      <th>epoch</th>\n",
              "      <th>train_loss</th>\n",
              "      <th>valid_loss</th>\n",
              "      <th>accuracy</th>\n",
              "      <th>time</th>\n",
              "    </tr>\n",
              "  </thead>\n",
              "  <tbody>\n",
              "    <tr>\n",
              "      <td>0</td>\n",
              "      <td>0.443795</td>\n",
              "      <td>0.280205</td>\n",
              "      <td>0.934599</td>\n",
              "      <td>00:14</td>\n",
              "    </tr>\n",
              "  </tbody>\n",
              "</table>"
            ],
            "text/plain": [
              "<IPython.core.display.HTML object>"
            ]
          },
          "metadata": {
            "tags": []
          }
        }
      ]
    }
  ]
}